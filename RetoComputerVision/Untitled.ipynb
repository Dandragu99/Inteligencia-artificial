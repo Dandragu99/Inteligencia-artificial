{
 "cells": [
  {
   "cell_type": "code",
   "execution_count": 135,
   "id": "f20ae917-49e7-427a-8923-45916af71cfa",
   "metadata": {},
   "outputs": [],
   "source": [
    "#Importamos las librería necesarias"
   ]
  },
  {
   "cell_type": "code",
   "execution_count": 136,
   "id": "6f90fe84-f06f-4541-abdf-01ffe7471082",
   "metadata": {},
   "outputs": [],
   "source": [
    "import os\n",
    "import cv2\n",
    "import numpy as np\n",
    "import tensorflow as tf\n",
    "from tensorflow.keras.applications import ResNet50\n",
    "from keras.src.layers import GlobalAveragePooling2D\n",
    "from tensorflow.keras.utils import to_categorical\n",
    "from sklearn.model_selection import train_test_split\n",
    "from tensorflow.keras.preprocessing.image import ImageDataGenerator\n",
    "from tensorflow.keras.models import Sequential\n",
    "from tensorflow.keras.layers import Conv2D, MaxPooling2D, Flatten, Dense, Dropout\n",
    "from tensorflow.keras.optimizers import Adam\n",
    "import matplotlib.pyplot as plt\n",
    "import zipfile"
   ]
  },
  {
   "cell_type": "code",
   "execution_count": 137,
   "id": "d558796b-6ebd-45b3-92ca-19d3d99b75d1",
   "metadata": {},
   "outputs": [],
   "source": [
    "# Definimos los directorios"
   ]
  },
  {
   "cell_type": "code",
   "execution_count": 138,
   "id": "28571fd2-5078-4cb8-867e-47620c633765",
   "metadata": {},
   "outputs": [],
   "source": [
    "dataset_path = \"archive.zip\""
   ]
  },
  {
   "cell_type": "code",
   "execution_count": 139,
   "id": "a504e2db-8f8e-4c76-a1a3-7daa810e89c2",
   "metadata": {},
   "outputs": [],
   "source": [
    "# Tamaño estándar para redes neuronales"
   ]
  },
  {
   "cell_type": "code",
   "execution_count": 140,
   "id": "fa7edaeb-c3cb-4d9a-b443-996464d94297",
   "metadata": {},
   "outputs": [],
   "source": [
    "IMG_SIZE = (128, 128)"
   ]
  },
  {
   "cell_type": "code",
   "execution_count": 141,
   "id": "2db74708-59bd-40ab-9792-5c4eb4b312c4",
   "metadata": {},
   "outputs": [],
   "source": [
    "# Cargamos imágenes y sus etiquetas"
   ]
  },
  {
   "cell_type": "code",
   "execution_count": 142,
   "id": "e69b80cc-3635-4a22-b4c1-0a4b937ecd43",
   "metadata": {},
   "outputs": [],
   "source": [
    "X, Y = [], []"
   ]
  },
  {
   "cell_type": "code",
   "execution_count": 143,
   "id": "371fb774-f1c5-44b5-9667-fadf22dd3413",
   "metadata": {},
   "outputs": [],
   "source": [
    "# Cargar imágenes"
   ]
  },
  {
   "cell_type": "code",
   "execution_count": 144,
   "id": "c6192f23-6875-42db-a6eb-1cdad8e2adb7",
   "metadata": {},
   "outputs": [],
   "source": [
    "for img_id in os.listdir(cropped_path)[:1000]:\n",
    "    cropped_img = cv2.imread(os.path.join(cropped_path, img_id))\n",
    "    simplified_img = cv2.imread(os.path.join(simplified_path, img_id))\n",
    "\n",
    "    if cropped_img is None or simplified_img is None:\n",
    "        print(f\" Problema al cargar {img_id}\")\n",
    "    else:\n",
    "        # Redimensionar las imágenes\n",
    "        cropped_img = cv2.resize(cropped_img, IMG_SIZE)\n",
    "        simplified_img = cv2.resize(simplified_img, IMG_SIZE)\n",
    "\n",
    "        # Promediar las imágenes\n",
    "        final_img = (cropped_img + simplified_img) / 2\n",
    "\n",
    "        X.append(final_img)\n",
    "\n",
    "        # Obtener etiqueta a partir del nombre del archivo (aquí se asigna una clase numérica)\n",
    "        label = int(img_id.split('.')[0]) % 20  # Ejemplo simple para 20 clases (mod 20)\n",
    "        Y.append(label)"
   ]
  },
  {
   "cell_type": "code",
   "execution_count": 145,
   "id": "7aba158b-5599-4251-8791-8962ab78b742",
   "metadata": {},
   "outputs": [],
   "source": [
    "X = np.array(X)\n",
    "Y = np.array(Y)"
   ]
  },
  {
   "cell_type": "code",
   "execution_count": 146,
   "id": "dc929804-9782-4f27-bb5d-622d1872eddd",
   "metadata": {},
   "outputs": [
    {
     "name": "stdout",
     "output_type": "stream",
     "text": [
      "Tamaño de X: (1000, 128, 128, 3)\n",
      "Tamaño de Y: (1000,)\n"
     ]
    }
   ],
   "source": [
    "print(f\"Tamaño de X: {X.shape}\")\n",
    "print(f\"Tamaño de Y: {Y.shape}\")"
   ]
  },
  {
   "cell_type": "code",
   "execution_count": 147,
   "id": "97c55108-dccb-45f8-a7c9-7e89e1749364",
   "metadata": {},
   "outputs": [],
   "source": [
    "Y = to_categorical(Y, num_classes=20)"
   ]
  },
  {
   "cell_type": "code",
   "execution_count": 148,
   "id": "76defc92-4b90-4fe2-ac7d-7bad9b86dab6",
   "metadata": {},
   "outputs": [],
   "source": [
    "# Dividir el dataset en entrenamiento y validación"
   ]
  },
  {
   "cell_type": "code",
   "execution_count": 149,
   "id": "47d5e5a2-1322-4c68-b1d7-55d975cf5db7",
   "metadata": {},
   "outputs": [],
   "source": [
    "X_train, X_val, Y_train, Y_val = train_test_split(X, Y, test_size=0.2, random_state=42)\n"
   ]
  },
  {
   "cell_type": "code",
   "execution_count": 150,
   "id": "caa7dc75-70d2-4ec2-9508-644fd254fee6",
   "metadata": {},
   "outputs": [],
   "source": [
    "# Normalizar las imágenes"
   ]
  },
  {
   "cell_type": "code",
   "execution_count": 151,
   "id": "3e29021c-3632-4eda-9ed1-d7fadc2fe575",
   "metadata": {},
   "outputs": [
    {
     "name": "stdout",
     "output_type": "stream",
     "text": [
      "Tamaño de X_train: (800, 128, 128, 3)\n",
      "Tamaño de Y_train: (800, 20)\n",
      "Tamaño de X_val: (200, 128, 128, 3)\n",
      "Tamaño de Y_val: (200, 20)\n"
     ]
    }
   ],
   "source": [
    "X_train = X_train.astype('float32') / 255.0\n",
    "X_val = X_val.astype('float32') / 255.0\n",
    "\n",
    "print(f\"Tamaño de X_train: {X_train.shape}\")\n",
    "print(f\"Tamaño de Y_train: {Y_train.shape}\")\n",
    "print(f\"Tamaño de X_val: {X_val.shape}\")\n",
    "print(f\"Tamaño de Y_val: {Y_val.shape}\")"
   ]
  },
  {
   "cell_type": "code",
   "execution_count": 152,
   "id": "b15f7fd8-ebca-4cd4-8085-0ed1c4efe106",
   "metadata": {},
   "outputs": [],
   "source": [
    "# Creación de generadores de datos para aumento de datos"
   ]
  },
  {
   "cell_type": "code",
   "execution_count": 153,
   "id": "585218f1-3342-496f-abb1-ad2fac37d986",
   "metadata": {},
   "outputs": [],
   "source": [
    "datagen = ImageDataGenerator(\n",
    "    rotation_range=30,\n",
    "    width_shift_range=0.2,\n",
    "    height_shift_range=0.2,\n",
    "    shear_range=0.2,\n",
    "    zoom_range=0.2,\n",
    "    horizontal_flip=True,\n",
    "    fill_mode='nearest'\n",
    ")"
   ]
  },
  {
   "cell_type": "code",
   "execution_count": 154,
   "id": "c33f1ed3-bc4f-45a2-9a87-94755c27dff4",
   "metadata": {},
   "outputs": [],
   "source": [
    "# Ajustar el generador de datos en las imágenes de entrenamiento"
   ]
  },
  {
   "cell_type": "code",
   "execution_count": 155,
   "id": "ebc7c0a7-236e-44ec-ad22-c0e2653eb35d",
   "metadata": {},
   "outputs": [],
   "source": [
    "datagen.fit(X_train)"
   ]
  },
  {
   "cell_type": "code",
   "execution_count": 156,
   "id": "4014a64b-6711-4782-b799-6e8acfe00d64",
   "metadata": {},
   "outputs": [],
   "source": [
    "# Usar ResNet50 como base para transfer learning"
   ]
  },
  {
   "cell_type": "code",
   "execution_count": 157,
   "id": "2f22a65d-ba6f-4e49-a5ba-ff90411cbe2d",
   "metadata": {},
   "outputs": [],
   "source": [
    "base_model = ResNet50(weights='imagenet', include_top=False, input_shape=(IMG_SIZE[0], IMG_SIZE[1], 3))\n"
   ]
  },
  {
   "cell_type": "code",
   "execution_count": 158,
   "id": "dc4dddbb-fa6c-4d89-ba8b-310852d7b0da",
   "metadata": {},
   "outputs": [],
   "source": [
    "# Crear el modelo"
   ]
  },
  {
   "cell_type": "code",
   "execution_count": 159,
   "id": "24740a10-5595-47ac-808a-3b7fec5133b2",
   "metadata": {},
   "outputs": [],
   "source": [
    "odel = Sequential([\n",
    "    base_model,\n",
    "    GlobalAveragePooling2D(),\n",
    "    Dense(128, activation='relu'),\n",
    "    Dropout(0.5),\n",
    "    Dense(20, activation='softmax')  # 20 clases\n",
    "])"
   ]
  },
  {
   "cell_type": "code",
   "execution_count": 160,
   "id": "d682d271-2c28-4aa6-9ad3-f54089423ab8",
   "metadata": {},
   "outputs": [],
   "source": [
    "# Compilar el modelo con un optimizador con tasa de aprendizaje ajustada"
   ]
  },
  {
   "cell_type": "code",
   "execution_count": 161,
   "id": "51000253-1ac0-44f2-870e-8e550aab1eab",
   "metadata": {},
   "outputs": [
    {
     "ename": "NameError",
     "evalue": "name 'model' is not defined",
     "output_type": "error",
     "traceback": [
      "\u001b[1;31m---------------------------------------------------------------------------\u001b[0m",
      "\u001b[1;31mNameError\u001b[0m                                 Traceback (most recent call last)",
      "Cell \u001b[1;32mIn[161], line 2\u001b[0m\n\u001b[0;32m      1\u001b[0m \u001b[38;5;66;03m# Compilar el modelo con un optimizador con tasa de aprendizaje ajustada\u001b[39;00m\n\u001b[1;32m----> 2\u001b[0m \u001b[43mmodel\u001b[49m\u001b[38;5;241m.\u001b[39mcompile(optimizer\u001b[38;5;241m=\u001b[39mAdam(learning_rate\u001b[38;5;241m=\u001b[39m\u001b[38;5;241m0.0001\u001b[39m), loss\u001b[38;5;241m=\u001b[39m\u001b[38;5;124m'\u001b[39m\u001b[38;5;124mcategorical_crossentropy\u001b[39m\u001b[38;5;124m'\u001b[39m, metrics\u001b[38;5;241m=\u001b[39m[\u001b[38;5;124m'\u001b[39m\u001b[38;5;124maccuracy\u001b[39m\u001b[38;5;124m'\u001b[39m])\n",
      "\u001b[1;31mNameError\u001b[0m: name 'model' is not defined"
     ]
    }
   ],
   "source": [
    "# Compilar el modelo con un optimizador con tasa de aprendizaje ajustada\n",
    "model.compile(optimizer=Adam(learning_rate=0.0001), loss='categorical_crossentropy', metrics=['accuracy'])"
   ]
  },
  {
   "cell_type": "code",
   "execution_count": 162,
   "id": "a07546cb-0a37-4b4f-bb7f-a737464ab2db",
   "metadata": {},
   "outputs": [],
   "source": [
    "# Entrenar el modelo con aumento de datos"
   ]
  },
  {
   "cell_type": "code",
   "execution_count": 163,
   "id": "89f9578e-189c-4dfe-b0d8-715d8ce6af3f",
   "metadata": {},
   "outputs": [
    {
     "ename": "NameError",
     "evalue": "name 'model' is not defined",
     "output_type": "error",
     "traceback": [
      "\u001b[1;31m---------------------------------------------------------------------------\u001b[0m",
      "\u001b[1;31mNameError\u001b[0m                                 Traceback (most recent call last)",
      "Cell \u001b[1;32mIn[163], line 1\u001b[0m\n\u001b[1;32m----> 1\u001b[0m history \u001b[38;5;241m=\u001b[39m \u001b[43mmodel\u001b[49m\u001b[38;5;241m.\u001b[39mfit(datagen\u001b[38;5;241m.\u001b[39mflow(X_train, Y_train, batch_size\u001b[38;5;241m=\u001b[39m\u001b[38;5;241m32\u001b[39m),\n\u001b[0;32m      2\u001b[0m                     validation_data\u001b[38;5;241m=\u001b[39m(X_val, Y_val),\n\u001b[0;32m      3\u001b[0m                     epochs\u001b[38;5;241m=\u001b[39m\u001b[38;5;241m10\u001b[39m)\n",
      "\u001b[1;31mNameError\u001b[0m: name 'model' is not defined"
     ]
    }
   ],
   "source": [
    "history = model.fit(datagen.flow(X_train, Y_train, batch_size=32),\n",
    "                    validation_data=(X_val, Y_val),\n",
    "                    epochs=10)\n"
   ]
  },
  {
   "cell_type": "code",
   "execution_count": 164,
   "id": "7961fb66-62dd-4349-8ae4-9a5067e17a93",
   "metadata": {},
   "outputs": [],
   "source": [
    "# Graficar la precisión y la pérdida durante el entrenamiento"
   ]
  },
  {
   "cell_type": "code",
   "execution_count": 165,
   "id": "06f293a6-c839-4acb-a7fa-f489dfb07e3e",
   "metadata": {},
   "outputs": [
    {
     "data": {
      "text/plain": [
       "<Figure size 1200x600 with 0 Axes>"
      ]
     },
     "execution_count": 165,
     "metadata": {},
     "output_type": "execute_result"
    },
    {
     "data": {
      "text/plain": [
       "<Figure size 1200x600 with 0 Axes>"
      ]
     },
     "metadata": {},
     "output_type": "display_data"
    }
   ],
   "source": [
    "plt.figure(figsize=(12, 6))"
   ]
  },
  {
   "cell_type": "code",
   "execution_count": 166,
   "id": "d716628f-67b5-4660-a003-a01b14f18522",
   "metadata": {},
   "outputs": [],
   "source": [
    "# Precisión de entrenamiento y validación"
   ]
  },
  {
   "cell_type": "code",
   "execution_count": 167,
   "id": "ec1780a0-23b3-49bf-a414-9d7ab9d4706b",
   "metadata": {},
   "outputs": [
    {
     "ename": "NameError",
     "evalue": "name 'history' is not defined",
     "output_type": "error",
     "traceback": [
      "\u001b[1;31m---------------------------------------------------------------------------\u001b[0m",
      "\u001b[1;31mNameError\u001b[0m                                 Traceback (most recent call last)",
      "Cell \u001b[1;32mIn[167], line 2\u001b[0m\n\u001b[0;32m      1\u001b[0m plt\u001b[38;5;241m.\u001b[39msubplot(\u001b[38;5;241m1\u001b[39m, \u001b[38;5;241m2\u001b[39m, \u001b[38;5;241m1\u001b[39m)\n\u001b[1;32m----> 2\u001b[0m plt\u001b[38;5;241m.\u001b[39mplot(\u001b[43mhistory\u001b[49m\u001b[38;5;241m.\u001b[39mhistory[\u001b[38;5;124m'\u001b[39m\u001b[38;5;124maccuracy\u001b[39m\u001b[38;5;124m'\u001b[39m], label\u001b[38;5;241m=\u001b[39m\u001b[38;5;124m'\u001b[39m\u001b[38;5;124mPrecisión de entrenamiento\u001b[39m\u001b[38;5;124m'\u001b[39m)\n\u001b[0;32m      3\u001b[0m plt\u001b[38;5;241m.\u001b[39mplot(history\u001b[38;5;241m.\u001b[39mhistory[\u001b[38;5;124m'\u001b[39m\u001b[38;5;124mval_accuracy\u001b[39m\u001b[38;5;124m'\u001b[39m], label\u001b[38;5;241m=\u001b[39m\u001b[38;5;124m'\u001b[39m\u001b[38;5;124mPrecisión de validación\u001b[39m\u001b[38;5;124m'\u001b[39m)\n\u001b[0;32m      4\u001b[0m plt\u001b[38;5;241m.\u001b[39mtitle(\u001b[38;5;124m'\u001b[39m\u001b[38;5;124mPrecisión durante el entrenamiento\u001b[39m\u001b[38;5;124m'\u001b[39m)\n",
      "\u001b[1;31mNameError\u001b[0m: name 'history' is not defined"
     ]
    },
    {
     "data": {
      "image/png": "[encoded data removed]",
      "text/plain": [
       "<Figure size 640x480 with 1 Axes>"
      ]
     },
     "metadata": {},
     "output_type": "display_data"
    }
   ],
   "source": [
    "plt.subplot(1, 2, 1)\n",
    "plt.plot(history.history['accuracy'], label='Precisión de entrenamiento')\n",
    "plt.plot(history.history['val_accuracy'], label='Precisión de validación')\n",
    "plt.title('Precisión durante el entrenamiento')\n",
    "plt.xlabel('Epochs')\n",
    "plt.ylabel('Precisión')\n",
    "plt.legend()"
   ]
  },
  {
   "cell_type": "code",
   "execution_count": 168,
   "id": "10b958ef-0924-4495-a933-16a13c1ed332",
   "metadata": {},
   "outputs": [],
   "source": [
    "# Pérdida de entrenamiento y validación"
   ]
  },
  {
   "cell_type": "code",
   "execution_count": 169,
   "id": "39bfeba9-c055-4bfb-9e42-8d5cd555c75e",
   "metadata": {},
   "outputs": [
    {
     "ename": "NameError",
     "evalue": "name 'history' is not defined",
     "output_type": "error",
     "traceback": [
      "\u001b[1;31m---------------------------------------------------------------------------\u001b[0m",
      "\u001b[1;31mNameError\u001b[0m                                 Traceback (most recent call last)",
      "Cell \u001b[1;32mIn[169], line 2\u001b[0m\n\u001b[0;32m      1\u001b[0m plt\u001b[38;5;241m.\u001b[39msubplot(\u001b[38;5;241m1\u001b[39m, \u001b[38;5;241m2\u001b[39m, \u001b[38;5;241m2\u001b[39m)\n\u001b[1;32m----> 2\u001b[0m plt\u001b[38;5;241m.\u001b[39mplot(\u001b[43mhistory\u001b[49m\u001b[38;5;241m.\u001b[39mhistory[\u001b[38;5;124m'\u001b[39m\u001b[38;5;124mloss\u001b[39m\u001b[38;5;124m'\u001b[39m], label\u001b[38;5;241m=\u001b[39m\u001b[38;5;124m'\u001b[39m\u001b[38;5;124mPérdida de entrenamiento\u001b[39m\u001b[38;5;124m'\u001b[39m)\n\u001b[0;32m      3\u001b[0m plt\u001b[38;5;241m.\u001b[39mplot(history\u001b[38;5;241m.\u001b[39mhistory[\u001b[38;5;124m'\u001b[39m\u001b[38;5;124mval_loss\u001b[39m\u001b[38;5;124m'\u001b[39m], label\u001b[38;5;241m=\u001b[39m\u001b[38;5;124m'\u001b[39m\u001b[38;5;124mPérdida de validación\u001b[39m\u001b[38;5;124m'\u001b[39m)\n\u001b[0;32m      4\u001b[0m plt\u001b[38;5;241m.\u001b[39mtitle(\u001b[38;5;124m'\u001b[39m\u001b[38;5;124mPérdida durante el entrenamiento\u001b[39m\u001b[38;5;124m'\u001b[39m)\n",
      "\u001b[1;31mNameError\u001b[0m: name 'history' is not defined"
     ]
    },
    {
     "data": {
      "image/png": "[encoded data removed]",
      "text/plain": [
       "<Figure size 640x480 with 1 Axes>"
      ]
     },
     "metadata": {},
     "output_type": "display_data"
    }
   ],
   "source": [
    "plt.subplot(1, 2, 2)\n",
    "plt.plot(history.history['loss'], label='Pérdida de entrenamiento')\n",
    "plt.plot(history.history['val_loss'], label='Pérdida de validación')\n",
    "plt.title('Pérdida durante el entrenamiento')\n",
    "plt.xlabel('Epochs')\n",
    "plt.ylabel('Pérdida')\n",
    "plt.legend()\n",
    "\n",
    "plt.show()"
   ]
  },
  {
   "cell_type": "code",
   "execution_count": 170,
   "id": "e4f5bb92-27ef-4620-a7c4-f0df6cf70663",
   "metadata": {},
   "outputs": [],
   "source": [
    "# Evaluar el modelo"
   ]
  },
  {
   "cell_type": "code",
   "execution_count": 171,
   "id": "4e339ae1-6068-4fce-97af-8930e62e6430",
   "metadata": {},
   "outputs": [
    {
     "ename": "NameError",
     "evalue": "name 'model' is not defined",
     "output_type": "error",
     "traceback": [
      "\u001b[1;31m---------------------------------------------------------------------------\u001b[0m",
      "\u001b[1;31mNameError\u001b[0m                                 Traceback (most recent call last)",
      "Cell \u001b[1;32mIn[171], line 1\u001b[0m\n\u001b[1;32m----> 1\u001b[0m train_accuracy \u001b[38;5;241m=\u001b[39m \u001b[43mmodel\u001b[49m\u001b[38;5;241m.\u001b[39mevaluate(X_train, Y_train, verbose\u001b[38;5;241m=\u001b[39m\u001b[38;5;241m0\u001b[39m)\n\u001b[0;32m      2\u001b[0m val_accuracy \u001b[38;5;241m=\u001b[39m model\u001b[38;5;241m.\u001b[39mevaluate(X_val, Y_val, verbose\u001b[38;5;241m=\u001b[39m\u001b[38;5;241m0\u001b[39m)\n\u001b[0;32m      4\u001b[0m \u001b[38;5;28mprint\u001b[39m(\u001b[38;5;124mf\u001b[39m\u001b[38;5;124m\"\u001b[39m\u001b[38;5;124mExactitud de entrenamiento: \u001b[39m\u001b[38;5;132;01m{\u001b[39;00mtrain_accuracy[\u001b[38;5;241m1\u001b[39m]\u001b[38;5;132;01m}\u001b[39;00m\u001b[38;5;124m\"\u001b[39m)\n",
      "\u001b[1;31mNameError\u001b[0m: name 'model' is not defined"
     ]
    }
   ],
   "source": [
    "train_accuracy = model.evaluate(X_train, Y_train, verbose=0)\n",
    "val_accuracy = model.evaluate(X_val, Y_val, verbose=0)\n",
    "\n",
    "print(f\"Exactitud de entrenamiento: {train_accuracy[1]}\")\n",
    "print(f\"Exactitud de validación: {val_accuracy[1]}\")"
   ]
  },
  {
   "cell_type": "code",
   "execution_count": null,
   "id": "e31c9c09-f592-4f31-998c-68e17df505d0",
   "metadata": {},
   "outputs": [],
   "source": []
  },
  {
   "cell_type": "code",
   "execution_count": null,
   "id": "f528508f-9af1-4bdd-ac3c-70e52dabc4c0",
   "metadata": {},
   "outputs": [],
   "source": []
  }
 ],
 "metadata": {
  "kernelspec": {
   "display_name": "Python 3 (ipykernel)",
   "language": "python",
   "name": "python3"
  },
  "language_info": {
   "codemirror_mode": {
    "name": "ipython",
    "version": 3
   },
   "file_extension": ".py",
   "mimetype": "text/x-python",
   "name": "python",
   "nbconvert_exporter": "python",
   "pygments_lexer": "ipython3",
   "version": "3.12.6"
  }
 },
 "nbformat": 4,
 "nbformat_minor": 5
}
